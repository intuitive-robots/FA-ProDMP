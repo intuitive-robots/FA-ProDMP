{
 "cells": [
  {
   "cell_type": "markdown",
   "metadata": {},
   "source": [
    "# Force-Aware ProDMP"
   ]
  },
  {
   "cell_type": "markdown",
   "metadata": {},
   "source": [
    "## Imports"
   ]
  },
  {
   "cell_type": "code",
   "execution_count": 1,
   "metadata": {},
   "outputs": [],
   "source": [
    "import os\n",
    "import pandas as pd"
   ]
  },
  {
   "cell_type": "markdown",
   "metadata": {},
   "source": [
    "## Load Data"
   ]
  },
  {
   "cell_type": "code",
   "execution_count": 2,
   "metadata": {},
   "outputs": [
    {
     "name": "stdout",
     "output_type": "stream",
     "text": [
      "10\n"
     ]
    }
   ],
   "source": [
    "trajectories = list()\n",
    "for filename in os.listdir('./demo_trajectories'):\n",
    "    if filename.endswith('.csv'):\n",
    "        df = pd.read_csv(f'./demo_trajectories/{filename}')\n",
    "        df['filename'] = filename\n",
    "        trajectories.append(df)\n",
    "print(len(trajectories))"
   ]
  },
  {
   "cell_type": "markdown",
   "metadata": {},
   "source": [
    "## Equalizing Demonstration Length and Amplitude\n",
    "The MP_Pytorch library expects the demonstration to have an equal number of steps.\n",
    "This is achived by defining the number of samples and interpolating the demonstration to match that number.\n",
    "Also, because ProDMPs uses one covariance matrix over all parameters the parameters should have roughly the same amplitude.\n",
    "In the following one amplitude for all positions and one for all forces will be calculated and the features scaled appropriately."
   ]
  },
  {
   "cell_type": "markdown",
   "metadata": {},
   "source": [
    "### Equalizing Demonstration Length"
   ]
  },
  {
   "cell_type": "code",
   "execution_count": 7,
   "metadata": {},
   "outputs": [],
   "source": [
    "SAMPLES = 1000\n",
    "INTERPOLATION_METHOD = 'linear'"
   ]
  },
  {
   "cell_type": "code",
   "execution_count": 8,
   "metadata": {},
   "outputs": [
    {
     "name": "stdout",
     "output_type": "stream",
     "text": [
      "20\n"
     ]
    }
   ],
   "source": [
    "for traj_idx in range(len(trajectories)):\n",
    "    min_idx = trajectories[traj_idx].index.min()\n",
    "    max_idx = trajectories[traj_idx].index.max()\n",
    "    new_index = np.linspace(min_idx, max_idx, SAMPLES)\n",
    "    new_df = pd.DataFrame(index=new_index)\n",
    "    for col in trajectories[traj_idx].columns:\n",
    "        new_df[col] = np.interp(new_index, trajectories[traj_idx].index, trajectories[traj_idx][col])\n",
    "    trajectories[traj_idx] = new_df\n",
    "print(len(trajectories))"
   ]
  },
  {
   "cell_type": "markdown",
   "metadata": {},
   "source": [
    "### Equalizing Amplitude"
   ]
  },
  {
   "cell_type": "markdown",
   "metadata": {},
   "source": [
    "#### Scaling Factors"
   ]
  },
  {
   "cell_type": "code",
   "execution_count": 9,
   "metadata": {},
   "outputs": [
    {
     "name": "stdout",
     "output_type": "stream",
     "text": [
      "0.10185128143122485\n",
      "33.92989949874573\n"
     ]
    }
   ],
   "source": [
    "pos_values = pd.concat([t[DEMONSTRATOR_FEATURES] for t in trajectories])\n",
    "pos_scale = abs(pos_values.max().max() - pos_values.min().min())\n",
    "\n",
    "wrench_values = pd.concat([t[REPLICANT_FEATURES] for t in trajectories])\n",
    "wrench_scale = abs(wrench_values.max().max() - wrench_values.min().min())\n",
    "\n",
    "print(pos_scale)\n",
    "print(wrench_scale)"
   ]
  },
  {
   "cell_type": "markdown",
   "metadata": {},
   "source": [
    "# TODO\n",
    " - [ ] visualize trajectories\n",
    " - [ ] convert to FAMP\n",
    " - [ ] visualize FAMP\n",
    " - [ ] force condition FAMP\n",
    " - [ ] condition on force\n",
    " - [ ] visualize conditioning\n",
    " - [ ] blend\n",
    " - [ ] visualize blending"
   ]
  }
 ],
 "metadata": {
  "kernelspec": {
   "display_name": "famp_demo",
   "language": "python",
   "name": "python3"
  },
  "language_info": {
   "codemirror_mode": {
    "name": "ipython",
    "version": 3
   },
   "file_extension": ".py",
   "mimetype": "text/x-python",
   "name": "python",
   "nbconvert_exporter": "python",
   "pygments_lexer": "ipython3",
   "version": "3.9.0"
  }
 },
 "nbformat": 4,
 "nbformat_minor": 2
}
